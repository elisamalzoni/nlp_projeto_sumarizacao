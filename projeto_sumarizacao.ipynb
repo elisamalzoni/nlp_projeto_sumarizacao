{
 "cells": [
  {
   "cell_type": "markdown",
   "metadata": {},
   "source": [
    "# Projeto: sumarizador de documentos e extração de palavras-chave\n",
    "\n",
    "Projeto em duplas.\n",
    "\n",
    "Neste projeto vamos usar o que aprendemos sobre vetorização de documentos e similaridade para construir sumários de documentos. Os sumários serão construídos à partir das sentenças existentes no texto, como se estivéssemos usando uma caneta marcadora de texto para ressaltar as sentenças mais importantes. Este tipo de sumarização é conhecido como sumarização extrativa. \n",
    "\n",
    "## Sumarização\n",
    "\n",
    "Você deve implementar duas técnicas de sumarização de documentos:\n",
    "\n",
    "1. Clustering\n",
    "\n",
    "Nesta técnica você deverá:\n",
    "\n",
    "- Vetorizar as sentenças do documento. Teste as várias opções de vetorização que aprendemos (TF-IDF, Doc2Vec, LDA, etc).\n",
    "- Agrupar as sentenças do documento em clusters usando K-Means.\n",
    "- Escolher as sentenças mais próximas do centro do cluster, para cada cluster.\n",
    "- Exibir estas sentenças na ordem em que se apresentaram no texto original.\n",
    "\n",
    "\n",
    "2. TextRank\n",
    "\n",
    "A ideia do TextRank é conectar todas as sentenças entre si através da sua similaridade (e.g. $1 - \\text{distância cosseno}$) em uma *matriz de similaridade*. Nesta matriz a entrada $(i,j)$ representa a similaridade entre as sentenças $i$ e $j$. Sentenças mais informativas tendem a estar conectadas com várias outras sentenças do texto, e servirão como representantes dos assuntos que estão sendo discutidos nestas outras sentenças. Para determinar quais são as sentenças de maior conectividade vamos usar o algoritmo PageRank (https://en.wikipedia.org/wiki/PageRank), que já está implementado na biblioteca `networkx` em Python.\n",
    "\n",
    "Veja o artigo https://www.analyticsvidhya.com/blog/2018/11/introduction-text-summarization-textrank-python/ para entender mais sobre essa técnica. Para conhecer os detalhes finos do algoritmo, veja o artigo original em https://web.eecs.umich.edu/~mihalcea/papers/mihalcea.emnlp04.pdf\n",
    "\n",
    "Implemente o TextRank e use-o para determinar as sentenças mais importantes do documento. Apresente estas sentenças na ordem em que aparecem no documento original.\n",
    "\n",
    "## Extração de palavras-chave\n",
    "\n",
    "As mesmas técnicas de sumarização de documentos servem para extrair palavras-chave de documentos: basta considerar a similaridade entre embeddings de palavras ao invés de vetores de sentença!\n",
    "\n",
    "Implemente também a extração de palavras-chave de documentos.\n",
    "\n",
    "## Testando as implementações\n",
    "\n",
    "Para testar suas implementações de sumarização você pode usar o dataset \"CNN/Daily Mail\" (https://github.com/abisee/cnn-dailymail). Cuidado: é um dataset bem grande, para testar seus desenvolvimentos é recomendável não rodar no corpus inteiro toda vez.\n",
    "\n",
    "## Entregáveis\n",
    "\n",
    "- O repositório com o código\n",
    "- Um relatório completo: \n",
    "    - Introdução\n",
    "        - Explicar o que é sumarização de texto, diferentes tipos, e fazer uma revisão bibliográfica pequena\n",
    "        - Explicar os dois algoritmos\n",
    "    - Métodos\n",
    "        - Explicar o experimento: qual dataset, como vai medir desempenho, etc.\n",
    "    - Resultados\n",
    "        - Métricas automatizadas: ROUGE (https://pypi.org/project/rouge/)\n",
    "        - Comparação qualitativa\n",
    "    - Conclusão\n",
    "    \n",
    "## Rubrica\n",
    "\n",
    "| Conceito | Definição |\n",
    "|:--------:|:----------|\n",
    "|    I     | Não entregou ou entregou nonsense |\n",
    "|    D     | O relatório está incompleto ou com falhas, o código tem erros mas está aproximadamente correto, falta mais de uma implementação |\n",
    "|    C     | O relatório está completo mas com escrita pobre, o código está meio bagunçado mas correto, falta uma implementação apenas |\n",
    "|    B     | Bom relatório, à exceção do ROUGE. Boa implementação. |\n",
    "|    A     | Implementou métrica ROUGE de desempenho. Aprimorou os métodos por conta própria, melhorando o desempenho. |"
   ]
  },
  {
   "cell_type": "markdown",
   "metadata": {},
   "source": [
    "## 1 - Clustering"
   ]
  },
  {
   "cell_type": "code",
   "execution_count": 15,
   "metadata": {},
   "outputs": [],
   "source": [
    "# vetorização\n",
    "from sklearn.feature_extraction.text import TfidfVectorizer\n",
    "from sklearn.feature_extraction.text import CountVectorizer\n",
    "from sklearn.cluster import MiniBatchKMeans\n",
    "from sklearn.metrics import pairwise_distances_argmin_min\n",
    "import pandas as pd\n",
    "import numpy as np\n",
    "from nltk.corpus import reuters\n",
    "from nltk.corpus import brown\n",
    "from pprint import pprint\n"
   ]
  },
  {
   "cell_type": "code",
   "execution_count": null,
   "metadata": {},
   "outputs": [],
   "source": [
    "docs = {}\n",
    "for fileid in reuters.fileids():\n",
    "    docs[fileid] = reuters.sents(fileid)\n",
    "\n",
    "for k, v in docs.items():\n",
    "    docs[k] = []\n",
    "    sent = ''\n",
    "    for s in v:\n",
    "        sent = ' '.join(s)\n",
    "        docs[k].append(sent)   "
   ]
  },
  {
   "cell_type": "code",
   "execution_count": null,
   "metadata": {},
   "outputs": [],
   "source": [
    "doc_sents = {}\n",
    "all_sents = []\n",
    "num_all_sents = 0\n",
    "\n",
    "for doc_id, doc in docs.items():\n",
    "    all_sents += doc\n",
    "    num_sents = len(doc)\n",
    "    doc_sents[doc_id] = list(range(num_all_sents, num_all_sents + num_sents))\n",
    "    num_all_sents+=num_sents\n"
   ]
  },
  {
   "cell_type": "code",
   "execution_count": null,
   "metadata": {},
   "outputs": [],
   "source": [
    "vectorizer = TfidfVectorizer(analyzer=lambda x: x)\n",
    "vectors = vectorizer.fit_transform(all_sents)"
   ]
  },
  {
   "cell_type": "markdown",
   "metadata": {},
   "source": [
    "## Clustering TF-IDF"
   ]
  },
  {
   "cell_type": "code",
   "execution_count": null,
   "metadata": {},
   "outputs": [],
   "source": [
    "for doc, sent_indexes in doc_sents.items():\n",
    "    num_sents = len(sent_indexes)\n",
    "    \n",
    "    first_index = doc_sents[doc][0]\n",
    "    last_index = doc_sents[doc][-1] + 1\n",
    "    \n",
    "    if num_sents >= 2:\n",
    "        kmeans = MiniBatchKMeans(n_clusters= 2, random_state=42)\n",
    "        result = kmeans.fit_transform(vectors[first_index:last_index])\n",
    "\n",
    "        closest, dis = pairwise_distances_argmin_min(kmeans.cluster_centers_, vectors[first_index:last_index])\n",
    "        \n",
    "        closest.sort()\n",
    "        \n",
    "        texts_centroids=[]\n",
    "        for e in closest:\n",
    "            sent = all_sents[e+first_index]\n",
    "\n",
    "            texts_centroids.append(sent)\n",
    "    \n",
    "        print(f'doc: {doc} ---------------------------------')    \n",
    "        print(texts_centroids)"
   ]
  },
  {
   "cell_type": "markdown",
   "metadata": {},
   "source": [
    "## Clustering usando cbow"
   ]
  },
  {
   "cell_type": "code",
   "execution_count": null,
   "metadata": {},
   "outputs": [],
   "source": [
    "import gensim\n",
    "with open('sentences.txt', 'w', encoding='utf8') as file:\n",
    "    for sentence in all_sents:\n",
    "        file.write(f'{sentence}\\n')"
   ]
  },
  {
   "cell_type": "code",
   "execution_count": null,
   "metadata": {},
   "outputs": [],
   "source": [
    "%%time\n",
    "model_cbow = gensim.models.Word2Vec(\n",
    "    corpus_file='sentences.txt',\n",
    "    window=5,\n",
    "    size=200,\n",
    "    seed=42,\n",
    "    iter=100,\n",
    "    workers=12,\n",
    ")"
   ]
  },
  {
   "cell_type": "code",
   "execution_count": null,
   "metadata": {},
   "outputs": [],
   "source": [
    "def cbow(model, sent):\n",
    "    vec = np.zeros(model.wv.vector_size)\n",
    "    for word in sent:\n",
    "        if word in model:\n",
    "            vec += model.wv.get_vector(word)\n",
    "            \n",
    "    norm = np.linalg.norm(vec)\n",
    "    if norm > np.finfo(float).eps:\n",
    "        vec /= norm\n",
    "    return vec"
   ]
  },
  {
   "cell_type": "code",
   "execution_count": null,
   "metadata": {},
   "outputs": [],
   "source": [
    "vecs_cbow = [cbow(model_cbow, sent) for sent in all_sents]"
   ]
  },
  {
   "cell_type": "code",
   "execution_count": null,
   "metadata": {},
   "outputs": [],
   "source": [
    "for doc, sent_indexes in doc_sents.items():\n",
    "    num_sents = len(sent_indexes)\n",
    "    \n",
    "    first_index = doc_sents[doc][0]\n",
    "    last_index = doc_sents[doc][-1] + 1\n",
    "    \n",
    "    if num_sents >= 2:\n",
    "        kmeans_cbow = MiniBatchKMeans(n_clusters= 2, random_state=42)\n",
    "        result = kmeans_cbow.fit_transform(vecs_cbow[first_index:last_index])\n",
    "\n",
    "        closest, dis = pairwise_distances_argmin_min(kmeans_cbow.cluster_centers_, vecs_cbow[first_index:last_index])\n",
    "        closest.sort()\n",
    "        texts_centroids=[]\n",
    "        \n",
    "        for e in closest:\n",
    "            sent = all_sents[e+first_index]\n",
    "\n",
    "            texts_centroids.append(sent)\n",
    "    \n",
    "        print(f'doc: {doc} ---------------------------------')    \n",
    "        print(texts_centroids)"
   ]
  },
  {
   "cell_type": "markdown",
   "metadata": {},
   "source": [
    "## 2 - TextRank\n",
    "\n",
    "Utilizando o tutorial - https://www.analyticsvidhya.com/blog/2018/11/introduction-text-summarization-textrank-python/"
   ]
  },
  {
   "cell_type": "code",
   "execution_count": 1,
   "metadata": {},
   "outputs": [],
   "source": [
    "import re"
   ]
  },
  {
   "cell_type": "code",
   "execution_count": 5,
   "metadata": {},
   "outputs": [],
   "source": [
    "df = pd.read_csv('tennis_articles_v4.csv')"
   ]
  },
  {
   "cell_type": "code",
   "execution_count": 6,
   "metadata": {},
   "outputs": [
    {
     "data": {
      "text/html": [
       "<div>\n",
       "<style scoped>\n",
       "    .dataframe tbody tr th:only-of-type {\n",
       "        vertical-align: middle;\n",
       "    }\n",
       "\n",
       "    .dataframe tbody tr th {\n",
       "        vertical-align: top;\n",
       "    }\n",
       "\n",
       "    .dataframe thead th {\n",
       "        text-align: right;\n",
       "    }\n",
       "</style>\n",
       "<table border=\"1\" class=\"dataframe\">\n",
       "  <thead>\n",
       "    <tr style=\"text-align: right;\">\n",
       "      <th></th>\n",
       "      <th>article_id</th>\n",
       "      <th>article_text</th>\n",
       "      <th>source</th>\n",
       "    </tr>\n",
       "  </thead>\n",
       "  <tbody>\n",
       "    <tr>\n",
       "      <th>0</th>\n",
       "      <td>1</td>\n",
       "      <td>Maria Sharapova has basically no friends as te...</td>\n",
       "      <td>https://www.tennisworldusa.org/tennis/news/Mar...</td>\n",
       "    </tr>\n",
       "    <tr>\n",
       "      <th>1</th>\n",
       "      <td>2</td>\n",
       "      <td>BASEL, Switzerland (AP), Roger Federer advance...</td>\n",
       "      <td>http://www.tennis.com/pro-game/2018/10/copil-s...</td>\n",
       "    </tr>\n",
       "    <tr>\n",
       "      <th>2</th>\n",
       "      <td>3</td>\n",
       "      <td>Roger Federer has revealed that organisers of ...</td>\n",
       "      <td>https://scroll.in/field/899938/tennis-roger-fe...</td>\n",
       "    </tr>\n",
       "    <tr>\n",
       "      <th>3</th>\n",
       "      <td>4</td>\n",
       "      <td>Kei Nishikori will try to end his long losing ...</td>\n",
       "      <td>http://www.tennis.com/pro-game/2018/10/nishiko...</td>\n",
       "    </tr>\n",
       "    <tr>\n",
       "      <th>4</th>\n",
       "      <td>5</td>\n",
       "      <td>Federer, 37, first broke through on tour over ...</td>\n",
       "      <td>https://www.express.co.uk/sport/tennis/1036101...</td>\n",
       "    </tr>\n",
       "  </tbody>\n",
       "</table>\n",
       "</div>"
      ],
      "text/plain": [
       "   article_id                                       article_text  \\\n",
       "0           1  Maria Sharapova has basically no friends as te...   \n",
       "1           2  BASEL, Switzerland (AP), Roger Federer advance...   \n",
       "2           3  Roger Federer has revealed that organisers of ...   \n",
       "3           4  Kei Nishikori will try to end his long losing ...   \n",
       "4           5  Federer, 37, first broke through on tour over ...   \n",
       "\n",
       "                                              source  \n",
       "0  https://www.tennisworldusa.org/tennis/news/Mar...  \n",
       "1  http://www.tennis.com/pro-game/2018/10/copil-s...  \n",
       "2  https://scroll.in/field/899938/tennis-roger-fe...  \n",
       "3  http://www.tennis.com/pro-game/2018/10/nishiko...  \n",
       "4  https://www.express.co.uk/sport/tennis/1036101...  "
      ]
     },
     "execution_count": 6,
     "metadata": {},
     "output_type": "execute_result"
    }
   ],
   "source": [
    "df.head()"
   ]
  },
  {
   "cell_type": "code",
   "execution_count": 7,
   "metadata": {},
   "outputs": [
    {
     "data": {
      "text/plain": [
       "\"Maria Sharapova has basically no friends as tennis players on the WTA Tour. The Russian player has no problems in openly speaking about it and in a recent interview she said: 'I don't really hide any feelings too much. I think everyone knows this is my job here. When I'm on the courts or when I'm on the court playing, I'm a competitor and I want to beat every single person whether they're in the locker room or across the net.So I'm not the one to strike up a conversation about the weather and know that in the next few minutes I have to go and try to win a tennis match. I'm a pretty competitive girl. I say my hellos, but I'm not sending any players flowers as well. Uhm, I'm not really friendly or close to many players. I have not a lot of friends away from the courts.' When she said she is not really close to a lot of players, is that something strategic that she is doing? Is it different on the men's tour than the women's tour? 'No, not at all. I think just because you're in the same sport doesn't mean that you have to be friends with everyone just because you're categorized, you're a tennis player, so you're going to get along with tennis players. I think every person has different interests. I have friends that have completely different jobs and interests, and I've met them in very different parts of my life. I think everyone just thinks because we're tennis players we should be the greatest of friends. But ultimately tennis is just a very small part of what we do. There are so many other things that we're interested in, that we do.'\""
      ]
     },
     "execution_count": 7,
     "metadata": {},
     "output_type": "execute_result"
    }
   ],
   "source": [
    "df['article_text'][0]"
   ]
  },
  {
   "cell_type": "code",
   "execution_count": 8,
   "metadata": {},
   "outputs": [
    {
     "name": "stdout",
     "output_type": "stream",
     "text": [
      "{0: [0, 1, 2, 3, 4, 5, 6, 7, 8, 9, 10, 11, 12, 13, 14, 15, 16],\n",
      " 1: [17, 18, 19, 20, 21, 22, 23, 24, 25, 26, 27, 28],\n",
      " 2: [29, 30, 31, 32, 33, 34, 35, 36, 37, 38, 39, 40, 41, 42, 43, 44, 45],\n",
      " 3: [46, 47, 48, 49, 50, 51, 52, 53, 54, 55, 56, 57, 58],\n",
      " 4: [59, 60, 61, 62, 63, 64, 65, 66, 67, 68, 69, 70, 71, 72, 73, 74, 75, 76],\n",
      " 5: [77, 78, 79, 80, 81, 82, 83, 84, 85, 86, 87, 88],\n",
      " 6: [89, 90, 91, 92, 93, 94, 95, 96, 97, 98],\n",
      " 7: [99,\n",
      "     100,\n",
      "     101,\n",
      "     102,\n",
      "     103,\n",
      "     104,\n",
      "     105,\n",
      "     106,\n",
      "     107,\n",
      "     108,\n",
      "     109,\n",
      "     110,\n",
      "     111,\n",
      "     112,\n",
      "     113,\n",
      "     114,\n",
      "     115,\n",
      "     116,\n",
      "     117,\n",
      "     118]}\n"
     ]
    }
   ],
   "source": [
    "from nltk.tokenize import sent_tokenize\n",
    "from pprint import pprint\n",
    "sentences = []\n",
    "for s in df['article_text']:\n",
    "    sentences.append(sent_tokenize(s))\n",
    "# print(sentences)\n",
    "doc_sents = {}\n",
    "all_sents = []\n",
    "num_all_sents = 0\n",
    "\n",
    "for index, doc in enumerate(sentences):\n",
    "    all_sents += doc\n",
    "    num_sents = len(doc)\n",
    "    doc_sents[index] = list(range(num_all_sents, num_all_sents + num_sents))\n",
    "    num_all_sents+=num_sents                        \n",
    "\n",
    "pprint(doc_sents)\n",
    "sentences = [y for x in sentences for y in x] # flatten list\n",
    "# print(sentences)"
   ]
  },
  {
   "cell_type": "code",
   "execution_count": 9,
   "metadata": {},
   "outputs": [],
   "source": [
    "# !wget http://nlp.stanford.edu/data/glove.6B.zip\n",
    "# !unzip glove*.zip"
   ]
  },
  {
   "cell_type": "code",
   "execution_count": 10,
   "metadata": {},
   "outputs": [],
   "source": [
    "# remove punctuations, numbers and special characters\n",
    "clean_sentences = pd.Series(sentences).str.replace(\"[^a-zA-Z]\", \" \")\n",
    "\n",
    "# make alphabets lowercase\n",
    "clean_sentences = [s.lower() for s in clean_sentences]"
   ]
  },
  {
   "cell_type": "code",
   "execution_count": 11,
   "metadata": {},
   "outputs": [],
   "source": [
    "from nltk.corpus import stopwords\n",
    "stop_words = stopwords.words('english')"
   ]
  },
  {
   "cell_type": "code",
   "execution_count": 12,
   "metadata": {},
   "outputs": [],
   "source": [
    "# function to remove stopwords\n",
    "def remove_stopwords(sen):\n",
    "    sen_new = \" \".join([i for i in sen if i not in stop_words])\n",
    "    return sen_new"
   ]
  },
  {
   "cell_type": "code",
   "execution_count": 13,
   "metadata": {},
   "outputs": [],
   "source": [
    "# remove stopwords from the sentences\n",
    "clean_sentences = [remove_stopwords(r.split()) for r in clean_sentences]"
   ]
  },
  {
   "cell_type": "code",
   "execution_count": 16,
   "metadata": {},
   "outputs": [],
   "source": [
    "# Extract word vectors\n",
    "word_embeddings = {}\n",
    "f = open('glove.6B.100d.txt', encoding='utf-8')\n",
    "for line in f:\n",
    "    values = line.split()\n",
    "    word = values[0]\n",
    "    coefs = np.asarray(values[1:], dtype='float32')\n",
    "    word_embeddings[word] = coefs\n",
    "f.close()"
   ]
  },
  {
   "cell_type": "code",
   "execution_count": 17,
   "metadata": {},
   "outputs": [],
   "source": [
    "sentence_vectors = []\n",
    "for i in clean_sentences:\n",
    "    if len(i) != 0:\n",
    "        v = sum([word_embeddings.get(w, np.zeros((100,))) for w in i.split()])/(len(i.split())+0.001)\n",
    "    else:\n",
    "        v = np.zeros((100,))\n",
    "    sentence_vectors.append(v)"
   ]
  },
  {
   "cell_type": "code",
   "execution_count": 18,
   "metadata": {},
   "outputs": [],
   "source": [
    "from sklearn.metrics.pairwise import cosine_similarity\n",
    "import networkx as nx"
   ]
  },
  {
   "cell_type": "code",
   "execution_count": 19,
   "metadata": {
    "collapsed": true,
    "jupyter": {
     "outputs_hidden": true
    }
   },
   "outputs": [
    {
     "name": "stdout",
     "output_type": "stream",
     "text": [
      "doc: 0 \n",
      "\n",
      "I think just because you're in the same sport doesn't mean that you have to be friends with everyone just because you're categorized, you're a tennis player, so you're going to get along with tennis players.\n",
      "I think everyone just thinks because we're tennis players we should be the greatest of friends.\n",
      "When I'm on the courts or when I'm on the court playing, I'm a competitor and I want to beat every single person whether they're in the locker room or across the net.So I'm not the one to strike up a conversation about the weather and know that in the next few minutes I have to go and try to win a tennis match.\n",
      "******************************\n",
      "['Maria Sharapova has basically no friends as tennis players on the WTA Tour.', \"The Russian player has no problems in openly speaking about it and in a recent interview she said: 'I don't really hide any feelings too much.\", 'I think everyone knows this is my job here.', \"When I'm on the courts or when I'm on the court playing, I'm a competitor and I want to beat every single person whether they're in the locker room or across the net.So I'm not the one to strike up a conversation about the weather and know that in the next few minutes I have to go and try to win a tennis match.\", \"I'm a pretty competitive girl.\", \"I say my hellos, but I'm not sending any players flowers as well.\", \"Uhm, I'm not really friendly or close to many players.\", \"I have not a lot of friends away from the courts.'\", 'When she said she is not really close to a lot of players, is that something strategic that she is doing?', \"Is it different on the men's tour than the women's tour?\", \"'No, not at all.\", \"I think just because you're in the same sport doesn't mean that you have to be friends with everyone just because you're categorized, you're a tennis player, so you're going to get along with tennis players.\", 'I think every person has different interests.', \"I have friends that have completely different jobs and interests, and I've met them in very different parts of my life.\", \"I think everyone just thinks because we're tennis players we should be the greatest of friends.\", 'But ultimately tennis is just a very small part of what we do.', \"There are so many other things that we're interested in, that we do.'\"]\n",
      "--------------------------------------------------\n",
      "doc: 1 \n",
      "\n",
      "Federer dominated the 20th-ranked Medvedev and had his first match-point chance to break serve again at 5-1.\n",
      "Copil upset expectations of a Federer final against Alexander Zverev in a 6-3, 6-7 (6), 6-4 win over the fifth-ranked German in the earlier semifinal.\n",
      "Federer had an easier time than in his only previous match against Medvedev, a three-setter at Shanghai two weeks ago.\n",
      "******************************\n",
      "['BASEL, Switzerland (AP), Roger Federer advanced to the 14th Swiss Indoors final of his career by beating seventh-seeded Daniil Medvedev 6-1, 6-4 on Saturday.', 'Seeking a ninth title at his hometown event, and a 99th overall, Federer will play 93th-ranked Marius Copil on Sunday.', 'Federer dominated the 20th-ranked Medvedev and had his first match-point chance to break serve again at 5-1.', \"He then dropped his serve to love, and let another match point slip in Medvedev's next service game by netting a backhand.\", 'He clinched on his fourth chance when Medvedev netted from the baseline.', 'Copil upset expectations of a Federer final against Alexander Zverev in a 6-3, 6-7 (6), 6-4 win over the fifth-ranked German in the earlier semifinal.', 'The Romanian aims for a first title after arriving at Basel without a career win over a top-10 opponent.', 'Copil has two after also beating No.', '6 Marin Cilic in the second round.', 'Copil fired 26 aces past Zverev and never dropped serve, clinching after 2 1/2 hours with a forehand volley winner to break Zverev for the second time in the semifinal.', \"He came through two rounds of qualifying last weekend to reach the Basel main draw, including beating Zverev's older brother, Mischa.\", 'Federer had an easier time than in his only previous match against Medvedev, a three-setter at Shanghai two weeks ago.']\n",
      "--------------------------------------------------\n",
      "doc: 2 \n",
      "\n",
      "Speaking at the Swiss Indoors tournament where he will play in Sundays final against Romanian qualifier Marius Copil, the world number three said that given the impossibly short time frame to make a decision, he opted out of any commitment.\n",
      "Major players feel that a big event in late November combined with one in January before the Australian Open will mean too much tennis and too little rest.\n",
      "Roger Federer has revealed that organisers of the re-launched and condensed Davis Cup gave him three days to decide if he would commit to the controversial competition.\n",
      "******************************\n",
      "['Roger Federer has revealed that organisers of the re-launched and condensed Davis Cup gave him three days to decide if he would commit to the controversial competition.', 'Speaking at the Swiss Indoors tournament where he will play in Sundays final against Romanian qualifier Marius Copil, the world number three said that given the impossibly short time frame to make a decision, he opted out of any commitment.', '\"They only left me three days to decide\", Federer said.', '\"I didn\\'t to have time to consult with all the people I had to consult.', '\"I could not make a decision in that time, so I told them to do what they wanted.\"', 'The 20-time Grand Slam champion has voiced doubts about the wisdom of the one-week format to be introduced by organisers Kosmos, who have promised the International Tennis Federation up to $3 billion in prize money over the next quarter-century.', 'The competition is set to feature 18 countries in the November 18-24 finals in Madrid next year, and will replace the classic home-and-away ties played four times per year for decades.', 'Kosmos is headed by Barcelona footballer Gerard Pique, who is hoping fellow Spaniard Rafael Nadal will play in the upcoming event.', \"Novak Djokovic has said he will give precedence to the ATP's intended re-launch of the defunct World Team Cup in January 2020, at various Australian venues.\", 'Major players feel that a big event in late November combined with one in January before the Australian Open will mean too much tennis and too little rest.', 'Federer said earlier this month in Shanghai in that his chances of playing the Davis Cup were all but non-existent.', '\"I highly doubt it, of course.', 'We will see what happens,\" he said.', '\"I do not think this was designed for me, anyhow.', 'This was designed for the future generation of players.\"', 'Argentina and Britain received wild cards to the new-look event, and will compete along with the four 2018 semi-finalists and the 12 teams who win qualifying rounds next February.', '\"I don\\'t like being under that kind of pressure,\" Federer said of the deadline Kosmos handed him.']\n",
      "--------------------------------------------------\n",
      "doc: 3 \n",
      "\n",
      "Kei Nishikori will try to end his long losing streak in ATP finals and Kevin Anderson will go for his second title of the year at the Erste Bank Open on Sunday.\n",
      "The Spaniard broke Anderson twice in the second but didn't get another chance on the South African's serve in the final set.\n",
      "Currently in ninth place, Nishikori with a win could move to within 125 points of the cut for the eight-man event in London next month.\n",
      "******************************\n",
      "['Kei Nishikori will try to end his long losing streak in ATP finals and Kevin Anderson will go for his second title of the year at the Erste Bank Open on Sunday.', 'The fifth-seeded Nishikori reached his third final of 2018 after beating Mikhail Kukushkin of Kazakhstan 6-4, 6-3 in the semifinals.', \"A winner of 11 ATP events, Nishikori hasn't triumphed since winning in Memphis in February 2016.\", 'He has lost eight straight finals since.', 'The second-seeded Anderson defeated Fernando Verdasco 6-3, 3-6, 6-4.', 'Anderson has a shot at a fifth career title and second of the year after winning in New York in February.', 'Nishikori leads Anderson 4-2 on career matchups, but the South African won their only previous meeting this year.', 'With a victory on Sunday, Anderson will qualify for the ATP Finals.', 'Currently in ninth place, Nishikori with a win could move to within 125 points of the cut for the eight-man event in London next month.', 'Nishikori held serve throughout against Kukushkin, who came through qualifying.', 'He used his first break point to close out the first set before going up 3-0 in the second and wrapping up the win on his first match point.', 'Against Verdasco, Anderson hit nine of his 19 aces in the opening set.', \"The Spaniard broke Anderson twice in the second but didn't get another chance on the South African's serve in the final set.\"]\n",
      "--------------------------------------------------\n",
      "doc: 4 \n",
      "\n",
      "\"Not always, but I really feel like in the mid-2000 years there was a huge shift of the attitudes of the top players and being more friendly and being more giving, and a lot of that had to do with players like Roger coming up.\n",
      "\"I felt like the best weeks that I had to get to know players when I was playing were the Fed Cup weeks or the Olympic weeks, not necessarily during the tournaments.\n",
      "\"Clearly you make your life more difficult, but still I was up 6-2, 3-1, break points, so things could have ended very quickly today, even though I didn't have the best serve percentage stats.\n",
      "******************************\n",
      "['Federer, 37, first broke through on tour over two decades ago and he has since gone on to enjoy a glittering career.', 'The 20-time Grand Slam winner is chasing his 99th ATP title at the Swiss Indoors this week and he faces Jan-Lennard Struff in the second round on Thursday (6pm BST).', 'Davenport enjoyed most of her success in the late 1990s and her third and final major tournament win came at the 2000 Australian Open.', 'But she claims the mentality of professional tennis players slowly began to change after the new millennium.', '\"It seems pretty friendly right now,\" said Davenport.', '\"I think there is a really nice environment and a great atmosphere, especially between some of the veteran players helping some of the younger players out.', '\"It\\'s a very pleasant atmosphere, I\\'d have to say, around the locker rooms.', '\"I felt like the best weeks that I had to get to know players when I was playing were the Fed Cup weeks or the Olympic weeks, not necessarily during the tournaments.', '\"And even though maybe we had smaller teams, I still think we kept to ourselves quite a bit.', '\"Not always, but I really feel like in the mid-2000 years there was a huge shift of the attitudes of the top players and being more friendly and being more giving, and a lot of that had to do with players like Roger coming up.', '\"I just felt like it really kind of changed where people were a little bit, definitely in the 90s, a lot more quiet, into themselves, and then it started to become better.\"', 'Meanwhile, Federer is hoping he can improve his service game as he hunts his ninth Swiss Indoors title this week.', '\"I didn\\'t serve very well [against first-round opponent Filip Kranjovic,\" Federer said.', '\"I think I was misfiring the corners, I was not hitting the lines enough.', '\"Clearly you make your life more difficult, but still I was up 6-2, 3-1, break points, so things could have ended very quickly today, even though I didn\\'t have the best serve percentage stats.', '\"But maybe that\\'s exactly what caught up to me eventually.', \"It's just getting used to it.\", 'This is where the first rounds can be tricky.\"']\n",
      "--------------------------------------------------\n",
      "doc: 5 \n",
      "\n",
      "Nadal's appearance in Paris is a big boost to the tournament organisers who could see Roger Federer withdraw.\n",
      "Federer's projected route to the Paris final could also lead to matches against Kevin Anderson and Novak Djokovic.\n",
      "The Paris Masters draw has been made and Nadal will start his campaign on Tuesday or Wednesday against either Fernando Verdasco or Jeremy Chardy.\n",
      "******************************\n",
      "['Nadal has not played tennis since he was forced to retire from the US Open semi-finals against Juan Martin Del Porto with a knee injury.', \"The world No 1 has been forced to miss Spain's Davis Cup clash with France and the Asian hard court season.\", 'But with the ATP World Tour Finals due to begin next month, Nadal is ready to prove his fitness before the season-ending event at the 02 Arena.', 'Nadal flew to Paris on Friday and footage from the Paris Masters official Twitter account shows the Spaniard smiling as he strides onto court for practice.', 'The Paris Masters draw has been made and Nadal will start his campaign on Tuesday or Wednesday against either Fernando Verdasco or Jeremy Chardy.', 'Nadal could then play defending champion Jack Sock in the third round before a potential quarter-final with either Borna Coric or Dominic Thiem.', \"Nadal's appearance in Paris is a big boost to the tournament organisers who could see Roger Federer withdraw.\", 'Federer is in action at the Swiss Indoors in Basel and if he reaches the final, he could pull out of Paris in a bid to stay fresh for London.', 'But as it stands, Federer is in the draw and is scheduled to face either former world No 3 Milos Raonic or Jo-Wilfried Tsonga in the second round.', \"Federer's projected route to the Paris final could also lead to matches against Kevin Anderson and Novak Djokovic.\", 'Djokovic could play Marco Cecchinato in the second round.', 'British No 1 Kyle Edmund is the 12th seed in Paris and will get underway in round two against either Karen Khachanov or Filip Krajinovic.']\n",
      "--------------------------------------------------\n",
      "doc: 6 \n",
      "\n",
      "Let's also not forget his two Grand Slam doubles triumphs this season.\n",
      "The end of the season is finally in sight, and with so many players defending,or losing,huge chunks of points in Singapore, Zhuhai and London, podcast co-hosts Nina Pantic and Irina Falconi discuss the art of defending points (02:14).\n",
      "In Singapore, one of the biggest storylines (aside from the matches, of course) has been the on-court coaching debate.\n",
      "******************************\n",
      "['Tennis giveth, and tennis taketh away.', 'The end of the season is finally in sight, and with so many players defending,or losing,huge chunks of points in Singapore, Zhuhai and London, podcast co-hosts Nina Pantic and Irina Falconi discuss the art of defending points (02:14).', \"It's no secret that Jack Sock has struggled on the singles court this year (his record is 7-19).\", 'He could lose 1,400 points in the next few weeks, but instead of focusing on the negative, it can all be about perspective (06:28).', \"Let's also not forget his two Grand Slam doubles triumphs this season.\", 'Two players, Stefanos Tsitsipas and Kyle Edmund, won their first career ATP titles last week (13:26).', \"It's a big deal because you never forget your first.\", 'Irina looks back at her WTA title win in Bogota in 2016, and tells an unforgettable story about her semifinal drama (14:04).', 'In Singapore, one of the biggest storylines (aside from the matches, of course) has been the on-court coaching debate.', 'Nina and Irina give their opinions on what coaching should look like in the future, on both tours (18:55).']\n",
      "--------------------------------------------------\n",
      "doc: 7 \n",
      "\n",
      "Because it was not always easy in the last weeks.\"\n",
      "\"We also had the impression that at this stage it might be better to play matches than to train.\n",
      "\"I felt good all week and better every day.\n",
      "******************************\n",
      "['Federer won the Swiss Indoors last week by beating Romanian qualifier Marius Copil in the final.', 'The 37-year-old claimed his 99th ATP title and is hunting the century in the French capital this week.', 'Federer has been handed a difficult draw where could could come across Kevin Anderson, Novak Djokovic and Rafael Nadal in the latter rounds.', 'But first the 20-time Grand Slam winner wants to train on the Paris Masters court this afternoon before deciding whether to appear for his opening match against either Milos Raonic or Jo-Wilfried Tsonga.', '\"On Monday, I am free and will look how I feel,\" Federer said after winning the Swiss Indoors.', '\"On Tuesday I will fly to Paris and train in the afternoon to be ready for my first match on Wednesday night.', '\"I felt good all week and better every day.', '\"We also had the impression that at this stage it might be better to play matches than to train.', '\"And as long as I fear no injury, I play.\"', \"Federer's success in Basel last week was the ninth time he has won his hometown tournament.\", 'And he was delighted to be watched on by all of his family and friends as he purchased 60 tickets for the final for those dearest to him.', '\"My children, my parents, my sister and my team are all there,\" Federer added.', '\"It is always very emotional for me to thank my team.', 'And sometimes it tilts with the emotions, sometimes I just stumble.', '\"It means the world to me.', 'It makes me incredibly happy to win my home tournament and make people happy here.', '\"I do not know if it\\'s maybe my last title, so today I try a lot more to absorb that and enjoy the moments much more consciously.', '\"Maybe I should celebrate as if it were my last title.', '\"There are very touching moments: seeing the ball children, the standing ovations, all the familiar faces in the audience.', 'Because it was not always easy in the last weeks.\"']\n",
      "--------------------------------------------------\n"
     ]
    }
   ],
   "source": [
    "for doc, sent_indexes in doc_sents.items():\n",
    "    num_sents = len(sent_indexes)\n",
    "    sim_mat = np.zeros([num_sents, num_sents])\n",
    "    for i, s1 in enumerate(sent_indexes):\n",
    "        for j, s2 in enumerate(sent_indexes):\n",
    "            if i != j:\n",
    "                sim_mat[i][j] = cosine_similarity(sentence_vectors[s1].reshape(1,100), sentence_vectors[s2].reshape(1,100))[0,0]\n",
    "    \n",
    "    nx_graph = nx.from_numpy_array(sim_mat)\n",
    "    scores = nx.pagerank(nx_graph)\n",
    "    \n",
    "    first_index = doc_sents[doc][0]\n",
    "    last_index = doc_sents[doc][-1] + 1\n",
    "    \n",
    "    ranked_sentences = sorted(((scores[i],s) for i,s in enumerate(sentences[first_index:last_index])), reverse=True)\n",
    "    print(f'doc: {doc} \\n')\n",
    "    for i in range(3):\n",
    "        print(ranked_sentences[i][1])\n",
    "    print('*' * 30)\n",
    "    print(sentences[first_index:last_index])\n",
    "    print('-' * 50)\n"
   ]
  },
  {
   "cell_type": "markdown",
   "metadata": {},
   "source": [
    "## 3 - Extração de palavras-chave"
   ]
  },
  {
   "cell_type": "code",
   "execution_count": 36,
   "metadata": {},
   "outputs": [],
   "source": [
    "punctuations = '''!()-[]{};:'\"\\,<>./?@#$%^&*_~'''"
   ]
  },
  {
   "cell_type": "code",
   "execution_count": 60,
   "metadata": {},
   "outputs": [
    {
     "name": "stdout",
     "output_type": "stream",
     "text": [
      "doc: 0 \n",
      "\n",
      "players\n",
      "friends\n",
      "basically\n",
      "player\n",
      "******************************\n",
      "['Maria Sharapova has basically no friends as tennis players on the WTA Tour.', \"The Russian player has no problems in openly speaking about it and in a recent interview she said: 'I don't really hide any feelings too much.\", 'I think everyone knows this is my job here.', \"When I'm on the courts or when I'm on the court playing, I'm a competitor and I want to beat every single person whether they're in the locker room or across the net.So I'm not the one to strike up a conversation about the weather and know that in the next few minutes I have to go and try to win a tennis match.\", \"I'm a pretty competitive girl.\", \"I say my hellos, but I'm not sending any players flowers as well.\", \"Uhm, I'm not really friendly or close to many players.\", \"I have not a lot of friends away from the courts.'\", 'When she said she is not really close to a lot of players, is that something strategic that she is doing?', \"Is it different on the men's tour than the women's tour?\", \"'No, not at all.\", \"I think just because you're in the same sport doesn't mean that you have to be friends with everyone just because you're categorized, you're a tennis player, so you're going to get along with tennis players.\", 'I think every person has different interests.', \"I have friends that have completely different jobs and interests, and I've met them in very different parts of my life.\", \"I think everyone just thinks because we're tennis players we should be the greatest of friends.\", 'But ultimately tennis is just a very small part of what we do.', \"There are so many other things that we're interested in, that we do.'\"]\n",
      "--------------------------------------------------\n",
      "doc: 1 \n",
      "\n",
      "seeking\n",
      "saturday\n",
      "ninth\n",
      "daniil\n",
      "******************************\n",
      "['BASEL, Switzerland (AP), Roger Federer advanced to the 14th Swiss Indoors final of his career by beating seventh-seeded Daniil Medvedev 6-1, 6-4 on Saturday.', 'Seeking a ninth title at his hometown event, and a 99th overall, Federer will play 93th-ranked Marius Copil on Sunday.', 'Federer dominated the 20th-ranked Medvedev and had his first match-point chance to break serve again at 5-1.', \"He then dropped his serve to love, and let another match point slip in Medvedev's next service game by netting a backhand.\", 'He clinched on his fourth chance when Medvedev netted from the baseline.', 'Copil upset expectations of a Federer final against Alexander Zverev in a 6-3, 6-7 (6), 6-4 win over the fifth-ranked German in the earlier semifinal.', 'The Romanian aims for a first title after arriving at Basel without a career win over a top-10 opponent.', 'Copil has two after also beating No.', '6 Marin Cilic in the second round.', 'Copil fired 26 aces past Zverev and never dropped serve, clinching after 2 1/2 hours with a forehand volley winner to break Zverev for the second time in the semifinal.', \"He came through two rounds of qualifying last weekend to reach the Basel main draw, including beating Zverev's older brother, Mischa.\", 'Federer had an easier time than in his only previous match against Medvedev, a three-setter at Shanghai two weeks ago.']\n",
      "--------------------------------------------------\n",
      "doc: 2 \n",
      "\n",
      "play\n",
      "sundays\n",
      "indoors\n",
      "copil\n",
      "******************************\n",
      "['Roger Federer has revealed that organisers of the re-launched and condensed Davis Cup gave him three days to decide if he would commit to the controversial competition.', 'Speaking at the Swiss Indoors tournament where he will play in Sundays final against Romanian qualifier Marius Copil, the world number three said that given the impossibly short time frame to make a decision, he opted out of any commitment.', '\"They only left me three days to decide\", Federer said.', '\"I didn\\'t to have time to consult with all the people I had to consult.', '\"I could not make a decision in that time, so I told them to do what they wanted.\"', 'The 20-time Grand Slam champion has voiced doubts about the wisdom of the one-week format to be introduced by organisers Kosmos, who have promised the International Tennis Federation up to $3 billion in prize money over the next quarter-century.', 'The competition is set to feature 18 countries in the November 18-24 finals in Madrid next year, and will replace the classic home-and-away ties played four times per year for decades.', 'Kosmos is headed by Barcelona footballer Gerard Pique, who is hoping fellow Spaniard Rafael Nadal will play in the upcoming event.', \"Novak Djokovic has said he will give precedence to the ATP's intended re-launch of the defunct World Team Cup in January 2020, at various Australian venues.\", 'Major players feel that a big event in late November combined with one in January before the Australian Open will mean too much tennis and too little rest.', 'Federer said earlier this month in Shanghai in that his chances of playing the Davis Cup were all but non-existent.', '\"I highly doubt it, of course.', 'We will see what happens,\" he said.', '\"I do not think this was designed for me, anyhow.', 'This was designed for the future generation of players.\"', 'Argentina and Britain received wild cards to the new-look event, and will compete along with the four 2018 semi-finalists and the 12 teams who win qualifying rounds next February.', '\"I don\\'t like being under that kind of pressure,\" Federer said of the deadline Kosmos handed him.']\n",
      "--------------------------------------------------\n",
      "doc: 3 \n",
      "\n",
      "atp\n",
      "semifinals\n",
      "63\n",
      "winner\n",
      "******************************\n",
      "['Kei Nishikori will try to end his long losing streak in ATP finals and Kevin Anderson will go for his second title of the year at the Erste Bank Open on Sunday.', 'The fifth-seeded Nishikori reached his third final of 2018 after beating Mikhail Kukushkin of Kazakhstan 6-4, 6-3 in the semifinals.', \"A winner of 11 ATP events, Nishikori hasn't triumphed since winning in Memphis in February 2016.\", 'He has lost eight straight finals since.', 'The second-seeded Anderson defeated Fernando Verdasco 6-3, 3-6, 6-4.', 'Anderson has a shot at a fifth career title and second of the year after winning in New York in February.', 'Nishikori leads Anderson 4-2 on career matchups, but the South African won their only previous meeting this year.', 'With a victory on Sunday, Anderson will qualify for the ATP Finals.', 'Currently in ninth place, Nishikori with a win could move to within 125 points of the cut for the eight-man event in London next month.', 'Nishikori held serve throughout against Kukushkin, who came through qualifying.', 'He used his first break point to close out the first set before going up 3-0 in the second and wrapping up the win on his first match point.', 'Against Verdasco, Anderson hit nine of his 19 aces in the opening set.', \"The Spaniard broke Anderson twice in the second but didn't get another chance on the South African's serve in the final set.\"]\n",
      "--------------------------------------------------\n",
      "doc: 4 \n",
      "\n",
      "australian\n",
      "came\n",
      "1990s\n",
      "win\n",
      "******************************\n",
      "['Federer, 37, first broke through on tour over two decades ago and he has since gone on to enjoy a glittering career.', 'The 20-time Grand Slam winner is chasing his 99th ATP title at the Swiss Indoors this week and he faces Jan-Lennard Struff in the second round on Thursday (6pm BST).', 'Davenport enjoyed most of her success in the late 1990s and her third and final major tournament win came at the 2000 Australian Open.', 'But she claims the mentality of professional tennis players slowly began to change after the new millennium.', '\"It seems pretty friendly right now,\" said Davenport.', '\"I think there is a really nice environment and a great atmosphere, especially between some of the veteran players helping some of the younger players out.', '\"It\\'s a very pleasant atmosphere, I\\'d have to say, around the locker rooms.', '\"I felt like the best weeks that I had to get to know players when I was playing were the Fed Cup weeks or the Olympic weeks, not necessarily during the tournaments.', '\"And even though maybe we had smaller teams, I still think we kept to ourselves quite a bit.', '\"Not always, but I really feel like in the mid-2000 years there was a huge shift of the attitudes of the top players and being more friendly and being more giving, and a lot of that had to do with players like Roger coming up.', '\"I just felt like it really kind of changed where people were a little bit, definitely in the 90s, a lot more quiet, into themselves, and then it started to become better.\"', 'Meanwhile, Federer is hoping he can improve his service game as he hunts his ninth Swiss Indoors title this week.', '\"I didn\\'t serve very well [against first-round opponent Filip Kranjovic,\" Federer said.', '\"I think I was misfiring the corners, I was not hitting the lines enough.', '\"Clearly you make your life more difficult, but still I was up 6-2, 3-1, break points, so things could have ended very quickly today, even though I didn\\'t have the best serve percentage stats.', '\"But maybe that\\'s exactly what caught up to me eventually.', \"It's just getting used to it.\", 'This is where the first rounds can be tricky.\"']\n",
      "--------------------------------------------------\n",
      "doc: 5 \n",
      "\n",
      "paris\n",
      "twitter\n",
      "shows\n",
      "masters\n",
      "******************************\n",
      "['Nadal has not played tennis since he was forced to retire from the US Open semi-finals against Juan Martin Del Porto with a knee injury.', \"The world No 1 has been forced to miss Spain's Davis Cup clash with France and the Asian hard court season.\", 'But with the ATP World Tour Finals due to begin next month, Nadal is ready to prove his fitness before the season-ending event at the 02 Arena.', 'Nadal flew to Paris on Friday and footage from the Paris Masters official Twitter account shows the Spaniard smiling as he strides onto court for practice.', 'The Paris Masters draw has been made and Nadal will start his campaign on Tuesday or Wednesday against either Fernando Verdasco or Jeremy Chardy.', 'Nadal could then play defending champion Jack Sock in the third round before a potential quarter-final with either Borna Coric or Dominic Thiem.', \"Nadal's appearance in Paris is a big boost to the tournament organisers who could see Roger Federer withdraw.\", 'Federer is in action at the Swiss Indoors in Basel and if he reaches the final, he could pull out of Paris in a bid to stay fresh for London.', 'But as it stands, Federer is in the draw and is scheduled to face either former world No 3 Milos Raonic or Jo-Wilfried Tsonga in the second round.', \"Federer's projected route to the Paris final could also lead to matches against Kevin Anderson and Novak Djokovic.\", 'Djokovic could play Marco Cecchinato in the second round.', 'British No 1 Kyle Edmund is the 12th seed in Paris and will get underway in round two against either Karen Khachanov or Filip Krajinovic.']\n",
      "--------------------------------------------------\n",
      "doc: 6 \n",
      "\n",
      "two\n",
      "triumphs\n",
      "two\n",
      "season\n",
      "******************************\n",
      "['Tennis giveth, and tennis taketh away.', 'The end of the season is finally in sight, and with so many players defending,or losing,huge chunks of points in Singapore, Zhuhai and London, podcast co-hosts Nina Pantic and Irina Falconi discuss the art of defending points (02:14).', \"It's no secret that Jack Sock has struggled on the singles court this year (his record is 7-19).\", 'He could lose 1,400 points in the next few weeks, but instead of focusing on the negative, it can all be about perspective (06:28).', \"Let's also not forget his two Grand Slam doubles triumphs this season.\", 'Two players, Stefanos Tsitsipas and Kyle Edmund, won their first career ATP titles last week (13:26).', \"It's a big deal because you never forget your first.\", 'Irina looks back at her WTA title win in Bogota in 2016, and tells an unforgettable story about her semifinal drama (14:04).', 'In Singapore, one of the biggest storylines (aside from the matches, of course) has been the on-court coaching debate.', 'Nina and Irina give their opinions on what coaching should look like in the future, on both tours (18:55).']\n",
      "--------------------------------------------------\n",
      "doc: 7 \n",
      "\n",
      "federer\n",
      "winning\n",
      "fly\n",
      "paris\n",
      "******************************\n",
      "['Federer won the Swiss Indoors last week by beating Romanian qualifier Marius Copil in the final.', 'The 37-year-old claimed his 99th ATP title and is hunting the century in the French capital this week.', 'Federer has been handed a difficult draw where could could come across Kevin Anderson, Novak Djokovic and Rafael Nadal in the latter rounds.', 'But first the 20-time Grand Slam winner wants to train on the Paris Masters court this afternoon before deciding whether to appear for his opening match against either Milos Raonic or Jo-Wilfried Tsonga.', '\"On Monday, I am free and will look how I feel,\" Federer said after winning the Swiss Indoors.', '\"On Tuesday I will fly to Paris and train in the afternoon to be ready for my first match on Wednesday night.', '\"I felt good all week and better every day.', '\"We also had the impression that at this stage it might be better to play matches than to train.', '\"And as long as I fear no injury, I play.\"', \"Federer's success in Basel last week was the ninth time he has won his hometown tournament.\", 'And he was delighted to be watched on by all of his family and friends as he purchased 60 tickets for the final for those dearest to him.', '\"My children, my parents, my sister and my team are all there,\" Federer added.', '\"It is always very emotional for me to thank my team.', 'And sometimes it tilts with the emotions, sometimes I just stumble.', '\"It means the world to me.', 'It makes me incredibly happy to win my home tournament and make people happy here.', '\"I do not know if it\\'s maybe my last title, so today I try a lot more to absorb that and enjoy the moments much more consciously.', '\"Maybe I should celebrate as if it were my last title.', '\"There are very touching moments: seeing the ball children, the standing ovations, all the familiar faces in the audience.', 'Because it was not always easy in the last weeks.\"']\n",
      "--------------------------------------------------\n"
     ]
    }
   ],
   "source": [
    "for doc, sent_indexes in doc_sents.items():\n",
    "    words_doc = []\n",
    "    words_doc_clean = []\n",
    "    for i in sent_indexes:\n",
    "        \n",
    "        words_doc += all_sents[i].split(' ')\n",
    "    \n",
    "    for word in words_doc:\n",
    "        no_punct = ''\n",
    "        for char in word:\n",
    "            if char not in punctuations:\n",
    "                no_punct = no_punct + char\n",
    "        no_punct = no_punct.lower()\n",
    "        words_doc_clean.append(no_punct)\n",
    "\n",
    "\n",
    "    num_words = len(words_doc_clean)\n",
    "    num_sents = len(sent_indexes)\n",
    "    sim_mat = np.zeros([num_words, num_words])\n",
    "    \n",
    "    for i, w1 in enumerate(words_doc_clean):\n",
    "        for j, w2 in enumerate(words_doc_clean):\n",
    "            if i != j:\n",
    "                try:\n",
    "                    sim_mat[i][j] = cosine_similarity(word_embeddings[w1].reshape(1,100), word_embeddings[w2].reshape(1,100))[0,0]\n",
    "                except KeyError:\n",
    "                    sim_mat[i][j] = -1\n",
    "    \n",
    "    nx_graph = nx.from_numpy_array(sim_mat)\n",
    "    scores = nx.pagerank(nx_graph)\n",
    "\n",
    "    \n",
    "    first_index = doc_sents[doc][0]\n",
    "    last_index = doc_sents[doc][-1] + 1\n",
    "    \n",
    "    ranked_words = sorted(((scores[i],s) for i,s in enumerate(words_doc_clean[first_index:last_index])), reverse=True)\n",
    "    ranked_words_clean = []\n",
    "    for w in ranked_words:\n",
    "        if w[1] not in stop_words:\n",
    "            ranked_words_clean.append(w)\n",
    "    print(f'doc: {doc} \\n')\n",
    "    for i in range(4):\n",
    "        print(ranked_words_clean[i][1])\n",
    "    print('*' * 30)\n",
    "    print(sentences[first_index:last_index])\n",
    "    print('-' * 50)"
   ]
  },
  {
   "cell_type": "code",
   "execution_count": null,
   "metadata": {},
   "outputs": [],
   "source": []
  }
 ],
 "metadata": {
  "kernelspec": {
   "display_name": "Python 3",
   "language": "python",
   "name": "python3"
  },
  "language_info": {
   "codemirror_mode": {
    "name": "ipython",
    "version": 3
   },
   "file_extension": ".py",
   "mimetype": "text/x-python",
   "name": "python",
   "nbconvert_exporter": "python",
   "pygments_lexer": "ipython3",
   "version": "3.7.4"
  }
 },
 "nbformat": 4,
 "nbformat_minor": 4
}
